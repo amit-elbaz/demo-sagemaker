{
 "cells": [
  {
   "cell_type": "code",
   "execution_count": 1,
   "id": "c447c260-b243-4f62-8a48-9dd07091282d",
   "metadata": {
    "editable": true,
    "slideshow": {
     "slide_type": ""
    },
    "tags": []
   },
   "outputs": [],
   "source": [
    "import mlrun\n",
    "import os\n",
    "import sagemaker\n",
    "import boto3"
   ]
  },
  {
   "cell_type": "code",
   "execution_count": null,
   "id": "d5399e5b-ca31-4e62-b099-d57d3146c27c",
   "metadata": {},
   "outputs": [],
   "source": [
    "# Set the base project name\n",
    "project_name = 'sagemaker-payment'"
   ]
  },
  {
   "cell_type": "code",
   "execution_count": null,
   "id": "eb778301-65bd-4e87-8c4a-b99f9db9db8a",
   "metadata": {
    "editable": true,
    "slideshow": {
     "slide_type": ""
    },
    "tags": []
   },
   "outputs": [],
   "source": [
    "project = mlrun.get_or_create_project(\"sagemaker-payment\", \"./\")"
   ]
  },
  {
   "cell_type": "code",
   "execution_count": 3,
   "id": "b7a968b8-2519-499b-9f03-a1a2a5caa640",
   "metadata": {},
   "outputs": [],
   "source": [
    "mlrun.set_env_from_file(\"env.var\")"
   ]
  },
  {
   "cell_type": "code",
   "execution_count": 4,
   "id": "6d313b06-19d0-4345-906c-9b9bc94e0857",
   "metadata": {},
   "outputs": [
    {
     "data": {
      "text/plain": [
       "<mlrun.runtimes.kubejob.KubejobRuntime at 0x7f2b7d4a6310>"
      ]
     },
     "execution_count": 4,
     "metadata": {},
     "output_type": "execute_result"
    }
   ],
   "source": [
    "# Getting our model training function\n",
    "project.set_function('./src/train.py', requirements=['sagemaker'],\n",
    "                     name='train', kind='job', image='mlrun/mlrun')"
   ]
  },
  {
   "cell_type": "code",
   "execution_count": 5,
   "id": "200c7038-8ec4-49f2-8fee-a049d489f643",
   "metadata": {},
   "outputs": [],
   "source": [
    "evaluate_function = project.set_function(\n",
    "    \"src/evaluate.py\",\n",
    "    \"evaluate\",\n",
    "    handler=\"evaluate\",\n",
    "    image=\"mlrun/mlrun\",\n",
    "    requirements=[\"xgboost\"],\n",
    ")"
   ]
  },
  {
   "cell_type": "code",
   "execution_count": 6,
   "id": "73cd9279-f871-4561-8f12-5f4930c7032f",
   "metadata": {},
   "outputs": [
    {
     "name": "stdout",
     "output_type": "stream",
     "text": [
      "Writing src/workflow.py\n"
     ]
    }
   ],
   "source": [
    "%%writefile src/workflow.py\n",
    "import mlrun\n",
    "from kfp import dsl\n",
    "from mlrun.model import HyperParamOptions\n",
    "from mlrun import get_or_create_ctx\n",
    "\n",
    "from mlrun import (\n",
    "    build_function,\n",
    "    deploy_function,\n",
    "    import_function,\n",
    "    run_function,\n",
    ")\n",
    "\n",
    "    \n",
    "@dsl.pipeline(\n",
    "    name=\"Fraud Detection Pipeline\",\n",
    "    description=\"Detecting fraud from a transactions dataset\"\n",
    ")\n",
    "\n",
    "def kfpipeline(evaluate_path):    \n",
    "\n",
    "    project = mlrun.get_current_project()  \n",
    "\n",
    "    project.get_function('train',sync=True)    \n",
    "    \n",
    "\n",
    "    train = project.run_function(name='train',\n",
    "                               function='train',\n",
    "                               handler='train',\n",
    "                               params={},\n",
    "                               outputs=[\"model\"])\n",
    "    \n",
    "    ctx = get_or_create_ctx(\"kfp\")\n",
    "    ctx.logger.info(train.outputs)\n",
    "    \n",
    "    \n",
    "    # evaluating the model\n",
    "    evaluate_function = project.get_function(\"evaluate\")\n",
    "    \n",
    "    #running\n",
    "    evaluate_run = project.run_function(\n",
    "    handler=\"evaluate\",\n",
    "    params={\n",
    "        \"model_path\": train.outputs['model_path'],\n",
    "        \"model_name\": \"xgboost-model\",\n",
    "        \"test_set\": evaluate_path,\n",
    "        \"label_column\": \"transaction_category\",        \n",
    "    },\n",
    "    returns=[\"classification_report: dataset\"])\n",
    "    \n",
    "    \n",
    "                                          \n",
    "    # deploying serving function\n",
    "    serving_function = project.get_function(\"serving\")    \n",
    "    \n",
    "\n",
    "    if serving_function.spec.graph is None:\n",
    "\n",
    "        # Set the topology and get the graph object:\n",
    "        graph = serving_function.set_topology(\"flow\", engine=\"async\")\n",
    "\n",
    "        # Add the steps:\n",
    "        graph.to(\"XGBModelServer\",\n",
    "                 name=\"xgboost-model\",\n",
    "                 model_path=train.outputs['model_path']) \\\n",
    "             .to(handler=\"postprocess\", name=\"postprocess\").respond()\n",
    "\n",
    "\n",
    "    # Set the desired requirements:\n",
    " \n",
    "    # Deploy the serving function:\n",
    "    project.deploy_function(\"serving\")\n"
   ]
  },
  {
   "cell_type": "code",
   "execution_count": 7,
   "id": "c920d4ea-b506-413a-881a-41e0b8adc940",
   "metadata": {},
   "outputs": [],
   "source": [
    "workflow_name = \"workflow\"\n",
    "project.set_workflow(name=workflow_name, workflow_path=\"src/workflow.py\")"
   ]
  },
  {
   "cell_type": "code",
   "execution_count": 8,
   "id": "cff008f1-111a-41ac-a00f-7774ac8493dc",
   "metadata": {},
   "outputs": [
    {
     "name": "stdout",
     "output_type": "stream",
     "text": [
      "sagemaker.config INFO - Not applying SDK defaults from location: /etc/xdg/sagemaker/config.yaml\n",
      "sagemaker.config INFO - Not applying SDK defaults from location: /home/sagemaker-user/.config/sagemaker/config.yaml\n"
     ]
    }
   ],
   "source": [
    "sagemaker_role = os.environ[\"SAGEMAKER-ROLE\"]\n",
    "region = sagemaker.Session().boto_region_name\n",
    "sm_client = boto3.client(\"sagemaker\")\n",
    "boto_session = boto3.Session(region_name=region)\n",
    "sagemaker_session = sagemaker.session.Session(boto_session=boto_session, sagemaker_client=sm_client)\n",
    "role = sagemaker_role\n",
    "bucket_prefix = \"payment-classification\"\n",
    "s3_bucket = sagemaker_session.default_bucket()"
   ]
  },
  {
   "cell_type": "code",
   "execution_count": 9,
   "id": "b4ac62b0-9970-4413-8485-29835635d19b",
   "metadata": {},
   "outputs": [],
   "source": [
    "s3_data = \"s3://{}/{}/test/test.csv\".format(s3_bucket, bucket_prefix)"
   ]
  },
  {
   "cell_type": "markdown",
   "id": "570fead4-e5f6-435b-92da-9fa03e9b7654",
   "metadata": {
    "editable": true,
    "slideshow": {
     "slide_type": ""
    },
    "tags": []
   },
   "source": [
    "### 1. Run the pipeline local <a class=\"anchor\" id=\"Setup\"></a>"
   ]
  },
  {
   "cell_type": "code",
   "execution_count": 11,
   "id": "78bddbd6-601b-4e9c-8174-5ac7855d7d84",
   "metadata": {},
   "outputs": [
    {
     "name": "stdout",
     "output_type": "stream",
     "text": [
      "> 2024-01-24 08:46:57,103 [warning] WARNING!, You seem to have uncommitted git changes, use .push()\n"
     ]
    },
    {
     "data": {
      "text/html": [
       "Workflow started in project sagemaker-payment id=5621091aa0034eb0bf5d58b8712f89d1<div><a href=\"https://dashboard.default-tenant.app.cust-cs-il-353.iguazio-cd2.com/mlprojects/sagemaker-payment/jobs\" target=\"_blank\">click here to view progress</a></div>"
      ],
      "text/plain": [
       "<IPython.core.display.HTML object>"
      ]
     },
     "metadata": {},
     "output_type": "display_data"
    },
    {
     "name": "stdout",
     "output_type": "stream",
     "text": [
      "> 2024-01-24 08:46:57,206 [info] Storing function: {'name': 'train', 'uid': '4371cd9a7205467c83a198dd9e2d7cb1', 'db': None}\n",
      "> 2024-01-24 08:46:58,577 [info] arn:aws:iam::934638699319:role/service-role/AmazonSageMaker-ExecutionRole-20231207T170664\n"
     ]
    },
    {
     "name": "stderr",
     "output_type": "stream",
     "text": [
      "INFO:sagemaker:Creating training-job with name: sagemaker-xgboost-2024-01-24-08-47-03-622\n"
     ]
    },
    {
     "name": "stdout",
     "output_type": "stream",
     "text": [
      "\n",
      "2024-01-24 08:47:04 Starting - Starting the training job...\n",
      "2024-01-24 08:47:26 Starting - Preparing the instances for training............\n",
      "2024-01-24 08:48:34 Downloading - Downloading input data.....\n",
      "2024-01-24 08:49:04 Downloading - Downloading the training image..........\n",
      "2024-01-24 08:50:00 Training - Training image download completed. Training in progress.................................\n",
      "2024-01-24 08:52:46 Uploading - Uploading generated training model..\n",
      "2024-01-24 08:53:02 Completed - Training job completed\n"
     ]
    },
    {
     "data": {
      "text/html": [
       "<style>\n",
       ".dictlist {\n",
       "  background-color: #4EC64B;\n",
       "  text-align: center;\n",
       "  margin: 4px;\n",
       "  border-radius: 3px; padding: 0px 3px 1px 3px; display: inline-block;}\n",
       ".artifact {\n",
       "  cursor: pointer;\n",
       "  background-color: #4EC64B;\n",
       "  text-align: left;\n",
       "  margin: 4px; border-radius: 3px; padding: 0px 3px 1px 3px; display: inline-block;\n",
       "}\n",
       "div.block.hidden {\n",
       "  display: none;\n",
       "}\n",
       ".clickable {\n",
       "  cursor: pointer;\n",
       "}\n",
       ".ellipsis {\n",
       "  display: inline-block;\n",
       "  max-width: 60px;\n",
       "  white-space: nowrap;\n",
       "  overflow: hidden;\n",
       "  text-overflow: ellipsis;\n",
       "}\n",
       ".master-wrapper {\n",
       "  display: flex;\n",
       "  flex-flow: row nowrap;\n",
       "  justify-content: flex-start;\n",
       "  align-items: stretch;\n",
       "}\n",
       ".master-tbl {\n",
       "  flex: 3\n",
       "}\n",
       ".master-wrapper > div {\n",
       "  margin: 4px;\n",
       "  padding: 10px;\n",
       "}\n",
       "iframe.fileview {\n",
       "  border: 0 none;\n",
       "  height: 100%;\n",
       "  width: 100%;\n",
       "  white-space: pre-wrap;\n",
       "}\n",
       ".pane-header-title {\n",
       "  width: 80%;\n",
       "  font-weight: 500;\n",
       "}\n",
       ".pane-header {\n",
       "  line-height: 1;\n",
       "  background-color: #4EC64B;\n",
       "  padding: 3px;\n",
       "}\n",
       ".pane-header .close {\n",
       "  font-size: 20px;\n",
       "  font-weight: 700;\n",
       "  float: right;\n",
       "  margin-top: -5px;\n",
       "}\n",
       ".master-wrapper .right-pane {\n",
       "  border: 1px inset silver;\n",
       "  width: 40%;\n",
       "  min-height: 300px;\n",
       "  flex: 3\n",
       "  min-width: 500px;\n",
       "}\n",
       ".master-wrapper * {\n",
       "  box-sizing: border-box;\n",
       "}\n",
       "</style><script>\n",
       "function copyToClipboard(fld) {\n",
       "    if (document.queryCommandSupported && document.queryCommandSupported('copy')) {\n",
       "        var textarea = document.createElement('textarea');\n",
       "        textarea.textContent = fld.innerHTML;\n",
       "        textarea.style.position = 'fixed';\n",
       "        document.body.appendChild(textarea);\n",
       "        textarea.select();\n",
       "\n",
       "        try {\n",
       "            return document.execCommand('copy'); // Security exception may be thrown by some browsers.\n",
       "        } catch (ex) {\n",
       "\n",
       "        } finally {\n",
       "            document.body.removeChild(textarea);\n",
       "        }\n",
       "    }\n",
       "}\n",
       "function expandPanel(el) {\n",
       "  const panelName = \"#\" + el.getAttribute('paneName');\n",
       "  console.log(el.title);\n",
       "\n",
       "  document.querySelector(panelName + \"-title\").innerHTML = el.title\n",
       "  iframe = document.querySelector(panelName + \"-body\");\n",
       "\n",
       "  const tblcss = `<style> body { font-family: Arial, Helvetica, sans-serif;}\n",
       "    #csv { margin-bottom: 15px; }\n",
       "    #csv table { border-collapse: collapse;}\n",
       "    #csv table td { padding: 4px 8px; border: 1px solid silver;} </style>`;\n",
       "\n",
       "  function csvToHtmlTable(str) {\n",
       "    return '<div id=\"csv\"><table><tr><td>' +  str.replace(/[\\n\\r]+$/g, '').replace(/[\\n\\r]+/g, '</td></tr><tr><td>')\n",
       "      .replace(/,/g, '</td><td>') + '</td></tr></table></div>';\n",
       "  }\n",
       "\n",
       "  function reqListener () {\n",
       "    if (el.title.endsWith(\".csv\")) {\n",
       "      iframe.setAttribute(\"srcdoc\", tblcss + csvToHtmlTable(this.responseText));\n",
       "    } else {\n",
       "      iframe.setAttribute(\"srcdoc\", this.responseText);\n",
       "    }\n",
       "    console.log(this.responseText);\n",
       "  }\n",
       "\n",
       "  const oReq = new XMLHttpRequest();\n",
       "  oReq.addEventListener(\"load\", reqListener);\n",
       "  oReq.open(\"GET\", el.title);\n",
       "  oReq.send();\n",
       "\n",
       "\n",
       "  //iframe.src = el.title;\n",
       "  const resultPane = document.querySelector(panelName + \"-pane\");\n",
       "  if (resultPane.classList.contains(\"hidden\")) {\n",
       "    resultPane.classList.remove(\"hidden\");\n",
       "  }\n",
       "}\n",
       "function closePanel(el) {\n",
       "  const panelName = \"#\" + el.getAttribute('paneName')\n",
       "  const resultPane = document.querySelector(panelName + \"-pane\");\n",
       "  if (!resultPane.classList.contains(\"hidden\")) {\n",
       "    resultPane.classList.add(\"hidden\");\n",
       "  }\n",
       "}\n",
       "\n",
       "</script>\n",
       "<div class=\"master-wrapper\">\n",
       "  <div class=\"block master-tbl\"><div>\n",
       "<style scoped>\n",
       "    .dataframe tbody tr th:only-of-type {\n",
       "        vertical-align: middle;\n",
       "    }\n",
       "\n",
       "    .dataframe tbody tr th {\n",
       "        vertical-align: top;\n",
       "    }\n",
       "\n",
       "    .dataframe thead th {\n",
       "        text-align: right;\n",
       "    }\n",
       "</style>\n",
       "<table border=\"1\" class=\"dataframe\">\n",
       "  <thead>\n",
       "    <tr style=\"text-align: right;\">\n",
       "      <th>project</th>\n",
       "      <th>uid</th>\n",
       "      <th>iter</th>\n",
       "      <th>start</th>\n",
       "      <th>state</th>\n",
       "      <th>name</th>\n",
       "      <th>labels</th>\n",
       "      <th>inputs</th>\n",
       "      <th>parameters</th>\n",
       "      <th>results</th>\n",
       "      <th>artifacts</th>\n",
       "    </tr>\n",
       "  </thead>\n",
       "  <tbody>\n",
       "    <tr>\n",
       "      <td>sagemaker-payment</td>\n",
       "      <td><div title=\"4371cd9a7205467c83a198dd9e2d7cb1\"><a href=\"https://dashboard.default-tenant.app.cust-cs-il-353.iguazio-cd2.com/mlprojects/sagemaker-payment/jobs/monitor/4371cd9a7205467c83a198dd9e2d7cb1/overview\" target=\"_blank\" >...9e2d7cb1</a></div></td>\n",
       "      <td>0</td>\n",
       "      <td>Jan 24 08:46:57</td>\n",
       "      <td>completed</td>\n",
       "      <td>train</td>\n",
       "      <td><div class=\"dictlist\">workflow=5621091aa0034eb0bf5d58b8712f89d1</div><div class=\"dictlist\">v3io_user=admin</div><div class=\"dictlist\">kind=local</div><div class=\"dictlist\">owner=admin</div><div class=\"dictlist\">host=default</div></td>\n",
       "      <td></td>\n",
       "      <td></td>\n",
       "      <td></td>\n",
       "      <td><div title=\"v3io:///projects/sagemaker-payment/artifacts/5621091aa0034eb0bf5d58b8712f89d1/train/0/model_path\">model_path</div></td>\n",
       "    </tr>\n",
       "  </tbody>\n",
       "</table>\n",
       "</div></div>\n",
       "  <div id=\"result4fbec76f-pane\" class=\"right-pane block hidden\">\n",
       "    <div class=\"pane-header\">\n",
       "      <span id=\"result4fbec76f-title\" class=\"pane-header-title\">Title</span>\n",
       "      <span onclick=\"closePanel(this)\" paneName=\"result4fbec76f\" class=\"close clickable\">&times;</span>\n",
       "    </div>\n",
       "    <iframe class=\"fileview\" id=\"result4fbec76f-body\"></iframe>\n",
       "  </div>\n",
       "</div>\n"
      ],
      "text/plain": [
       "<IPython.core.display.HTML object>"
      ]
     },
     "metadata": {},
     "output_type": "display_data"
    },
    {
     "name": "stdout",
     "output_type": "stream",
     "text": [
      "\n"
     ]
    },
    {
     "data": {
      "text/html": [
       "<b> > to track results use the .show() or .logs() methods  or <a href=\"https://dashboard.default-tenant.app.cust-cs-il-353.iguazio-cd2.com/mlprojects/sagemaker-payment/jobs/monitor/4371cd9a7205467c83a198dd9e2d7cb1/overview\" target=\"_blank\">click here</a> to open in UI</b>"
      ],
      "text/plain": [
       "<IPython.core.display.HTML object>"
      ]
     },
     "metadata": {},
     "output_type": "display_data"
    },
    {
     "name": "stdout",
     "output_type": "stream",
     "text": [
      "> 2024-01-24 08:53:02,772 [info] Run execution finished: {'status': 'completed', 'name': 'train'}\n",
      "> 2024-01-24 08:53:02,772 [info] {'model_path': 'store://artifacts/sagemaker-payment/train_model_path@5621091aa0034eb0bf5d58b8712f89d1'}\n",
      "> 2024-01-24 08:53:02,773 [error] Workflow run failed: {'exc_info': ['Traceback (most recent call last):\\n', '  File \"/home/sagemaker-user/.conda/envs/smdemo/lib/python3.9/site-packages/mlrun/projects/pipelines.py\", line 746, in run\\n    workflow_handler(**workflow_spec.args)\\n', '  File \"./src/workflow.py\", line 40, in kfpipeline\\n    evaluate_run = project.run_function(\\n', \"TypeError: run_function() missing 1 required positional argument: 'function'\\n\"]}\n"
     ]
    },
    {
     "data": {
      "text/html": [
       "[error] :x: Workflow 5621091aa0034eb0bf5d58b8712f89d1 run failed!, error: run_function() missing 1 required positional argument: 'function'"
      ],
      "text/plain": [
       "<IPython.core.display.HTML object>"
      ]
     },
     "metadata": {},
     "output_type": "display_data"
    },
    {
     "data": {
      "text/html": [
       "<h2>Run Results</h2><h3>[info] Pipeline run finished, state=Failed</h3><br>click the hyper links below to see detailed results<br><table border=\"1\" class=\"dataframe\">\n",
       "  <thead>\n",
       "    <tr style=\"text-align: right;\">\n",
       "      <th>uid</th>\n",
       "      <th>start</th>\n",
       "      <th>state</th>\n",
       "      <th>name</th>\n",
       "      <th>parameters</th>\n",
       "      <th>results</th>\n",
       "    </tr>\n",
       "  </thead>\n",
       "  <tbody>\n",
       "    <tr>\n",
       "      <td><div title=\"4371cd9a7205467c83a198dd9e2d7cb1\"><a href=\"https://dashboard.default-tenant.app.cust-cs-il-353.iguazio-cd2.com/mlprojects/sagemaker-payment/jobs/monitor/4371cd9a7205467c83a198dd9e2d7cb1/overview\" target=\"_blank\" >...9e2d7cb1</a></div></td>\n",
       "      <td>Jan 24 08:46:57</td>\n",
       "      <td>completed</td>\n",
       "      <td>train</td>\n",
       "      <td></td>\n",
       "      <td></td>\n",
       "    </tr>\n",
       "  </tbody>\n",
       "</table>"
      ],
      "text/plain": [
       "<IPython.core.display.HTML object>"
      ]
     },
     "metadata": {},
     "output_type": "display_data"
    },
    {
     "data": {
      "text/plain": [
       "5621091aa0034eb0bf5d58b8712f89d1"
      ]
     },
     "execution_count": 11,
     "metadata": {},
     "output_type": "execute_result"
    }
   ],
   "source": [
    "project.run(workflow_name ,watch = True ,local = True, arguments={\"evaluate_path\": s3_data})"
   ]
  },
  {
   "cell_type": "markdown",
   "id": "ae5d2146-ba54-4e10-83e9-c1e2ac3e1c77",
   "metadata": {},
   "source": [
    "### 1. Run the pipeline remotely <a class=\"anchor\" id=\"Setup\"></a>"
   ]
  },
  {
   "cell_type": "code",
   "execution_count": 12,
   "id": "9fb9bf8f-dfc5-4b9f-8d63-d423ae326630",
   "metadata": {},
   "outputs": [
    {
     "name": "stdout",
     "output_type": "stream",
     "text": [
      "> 2024-01-24 08:53:02,812 [warning] WARNING!, You seem to have uncommitted git changes, use .push()\n",
      "> 2024-01-24 08:53:02,965 [info] {'model': {{pipelineparam:op=train;name=model}}, 'run_id': {{pipelineparam:op=train;name=run_id}}}\n"
     ]
    },
    {
     "ename": "KeyError",
     "evalue": "'model_path'",
     "output_type": "error",
     "traceback": [
      "\u001b[0;31m---------------------------------------------------------------------------\u001b[0m",
      "\u001b[0;31mKeyError\u001b[0m                                  Traceback (most recent call last)",
      "Cell \u001b[0;32mIn[12], line 1\u001b[0m\n\u001b[0;32m----> 1\u001b[0m \u001b[43mproject\u001b[49m\u001b[38;5;241;43m.\u001b[39;49m\u001b[43mrun\u001b[49m\u001b[43m(\u001b[49m\u001b[43mworkflow_name\u001b[49m\u001b[43m,\u001b[49m\u001b[43m         \u001b[49m\n\u001b[1;32m      2\u001b[0m \u001b[43m            \u001b[49m\u001b[43mwatch\u001b[49m\u001b[38;5;241;43m=\u001b[39;49m\u001b[38;5;28;43;01mTrue\u001b[39;49;00m\u001b[43m,\u001b[49m\u001b[43marguments\u001b[49m\u001b[38;5;241;43m=\u001b[39;49m\u001b[43m \u001b[49m\u001b[43m{\u001b[49m\u001b[38;5;124;43m\"\u001b[39;49m\u001b[38;5;124;43mevaluate_path\u001b[39;49m\u001b[38;5;124;43m\"\u001b[39;49m\u001b[43m:\u001b[49m\u001b[43m \u001b[49m\u001b[43ms3_data\u001b[49m\u001b[43m}\u001b[49m\u001b[43m)\u001b[49m\n",
      "File \u001b[0;32m~/.conda/envs/smdemo/lib/python3.9/site-packages/mlrun/projects/project.py:2657\u001b[0m, in \u001b[0;36mMlrunProject.run\u001b[0;34m(self, name, workflow_path, arguments, artifact_path, workflow_handler, namespace, sync, watch, dirty, engine, local, schedule, timeout, source, cleanup_ttl, notifications)\u001b[0m\n\u001b[1;32m   2654\u001b[0m     inner_engine \u001b[38;5;241m=\u001b[39m get_workflow_engine(workflow_spec\u001b[38;5;241m.\u001b[39mengine, local)\u001b[38;5;241m.\u001b[39mengine\n\u001b[1;32m   2655\u001b[0m workflow_spec\u001b[38;5;241m.\u001b[39mengine \u001b[38;5;241m=\u001b[39m inner_engine \u001b[38;5;129;01mor\u001b[39;00m workflow_engine\u001b[38;5;241m.\u001b[39mengine\n\u001b[0;32m-> 2657\u001b[0m run \u001b[38;5;241m=\u001b[39m \u001b[43mworkflow_engine\u001b[49m\u001b[38;5;241;43m.\u001b[39;49m\u001b[43mrun\u001b[49m\u001b[43m(\u001b[49m\n\u001b[1;32m   2658\u001b[0m \u001b[43m    \u001b[49m\u001b[38;5;28;43mself\u001b[39;49m\u001b[43m,\u001b[49m\n\u001b[1;32m   2659\u001b[0m \u001b[43m    \u001b[49m\u001b[43mworkflow_spec\u001b[49m\u001b[43m,\u001b[49m\n\u001b[1;32m   2660\u001b[0m \u001b[43m    \u001b[49m\u001b[43mname\u001b[49m\u001b[43m,\u001b[49m\n\u001b[1;32m   2661\u001b[0m \u001b[43m    \u001b[49m\u001b[43mworkflow_handler\u001b[49m\u001b[38;5;241;43m=\u001b[39;49m\u001b[43mworkflow_handler\u001b[49m\u001b[43m,\u001b[49m\n\u001b[1;32m   2662\u001b[0m \u001b[43m    \u001b[49m\u001b[43msecrets\u001b[49m\u001b[38;5;241;43m=\u001b[39;49m\u001b[38;5;28;43mself\u001b[39;49m\u001b[38;5;241;43m.\u001b[39;49m\u001b[43m_secrets\u001b[49m\u001b[43m,\u001b[49m\n\u001b[1;32m   2663\u001b[0m \u001b[43m    \u001b[49m\u001b[43martifact_path\u001b[49m\u001b[38;5;241;43m=\u001b[39;49m\u001b[43martifact_path\u001b[49m\u001b[43m,\u001b[49m\n\u001b[1;32m   2664\u001b[0m \u001b[43m    \u001b[49m\u001b[43mnamespace\u001b[49m\u001b[38;5;241;43m=\u001b[39;49m\u001b[43mnamespace\u001b[49m\u001b[43m,\u001b[49m\n\u001b[1;32m   2665\u001b[0m \u001b[43m    \u001b[49m\u001b[43msource\u001b[49m\u001b[38;5;241;43m=\u001b[39;49m\u001b[43msource\u001b[49m\u001b[43m,\u001b[49m\n\u001b[1;32m   2666\u001b[0m \u001b[43m    \u001b[49m\u001b[43mnotifications\u001b[49m\u001b[38;5;241;43m=\u001b[39;49m\u001b[43mnotifications\u001b[49m\u001b[43m,\u001b[49m\n\u001b[1;32m   2667\u001b[0m \u001b[43m\u001b[49m\u001b[43m)\u001b[49m\n\u001b[1;32m   2668\u001b[0m \u001b[38;5;66;03m# run is None when scheduling\u001b[39;00m\n\u001b[1;32m   2669\u001b[0m \u001b[38;5;28;01mif\u001b[39;00m run \u001b[38;5;129;01mand\u001b[39;00m run\u001b[38;5;241m.\u001b[39mstate \u001b[38;5;241m==\u001b[39m mlrun\u001b[38;5;241m.\u001b[39mrun\u001b[38;5;241m.\u001b[39mRunStatuses\u001b[38;5;241m.\u001b[39mfailed:\n",
      "File \u001b[0;32m~/.conda/envs/smdemo/lib/python3.9/site-packages/mlrun/projects/pipelines.py:600\u001b[0m, in \u001b[0;36m_KFPRunner.run\u001b[0;34m(cls, project, workflow_spec, name, workflow_handler, secrets, artifact_path, namespace, source, notifications)\u001b[0m\n\u001b[1;32m    595\u001b[0m     \u001b[38;5;28;01mfor\u001b[39;00m notification \u001b[38;5;129;01min\u001b[39;00m notifications:\n\u001b[1;32m    596\u001b[0m         project\u001b[38;5;241m.\u001b[39mnotifiers\u001b[38;5;241m.\u001b[39madd_notification(\n\u001b[1;32m    597\u001b[0m             notification\u001b[38;5;241m.\u001b[39mkind, notification\u001b[38;5;241m.\u001b[39mparams\n\u001b[1;32m    598\u001b[0m         )\n\u001b[0;32m--> 600\u001b[0m run_id \u001b[38;5;241m=\u001b[39m \u001b[43m_run_pipeline\u001b[49m\u001b[43m(\u001b[49m\n\u001b[1;32m    601\u001b[0m \u001b[43m    \u001b[49m\u001b[43mworkflow_handler\u001b[49m\u001b[43m,\u001b[49m\n\u001b[1;32m    602\u001b[0m \u001b[43m    \u001b[49m\u001b[43mproject\u001b[49m\u001b[38;5;241;43m=\u001b[39;49m\u001b[43mproject\u001b[49m\u001b[38;5;241;43m.\u001b[39;49m\u001b[43mmetadata\u001b[49m\u001b[38;5;241;43m.\u001b[39;49m\u001b[43mname\u001b[49m\u001b[43m,\u001b[49m\n\u001b[1;32m    603\u001b[0m \u001b[43m    \u001b[49m\u001b[43marguments\u001b[49m\u001b[38;5;241;43m=\u001b[39;49m\u001b[43mworkflow_spec\u001b[49m\u001b[38;5;241;43m.\u001b[39;49m\u001b[43margs\u001b[49m\u001b[43m,\u001b[49m\n\u001b[1;32m    604\u001b[0m \u001b[43m    \u001b[49m\u001b[43mexperiment\u001b[49m\u001b[38;5;241;43m=\u001b[39;49m\u001b[43mname\u001b[49m\u001b[43m \u001b[49m\u001b[38;5;129;43;01mor\u001b[39;49;00m\u001b[43m \u001b[49m\u001b[43mworkflow_spec\u001b[49m\u001b[38;5;241;43m.\u001b[39;49m\u001b[43mname\u001b[49m\u001b[43m,\u001b[49m\n\u001b[1;32m    605\u001b[0m \u001b[43m    \u001b[49m\u001b[43mnamespace\u001b[49m\u001b[38;5;241;43m=\u001b[39;49m\u001b[43mnamespace\u001b[49m\u001b[43m,\u001b[49m\n\u001b[1;32m    606\u001b[0m \u001b[43m    \u001b[49m\u001b[43martifact_path\u001b[49m\u001b[38;5;241;43m=\u001b[39;49m\u001b[43martifact_path\u001b[49m\u001b[43m,\u001b[49m\n\u001b[1;32m    607\u001b[0m \u001b[43m    \u001b[49m\u001b[43mcleanup_ttl\u001b[49m\u001b[38;5;241;43m=\u001b[39;49m\u001b[43mworkflow_spec\u001b[49m\u001b[38;5;241;43m.\u001b[39;49m\u001b[43mcleanup_ttl\u001b[49m\u001b[43m,\u001b[49m\n\u001b[1;32m    608\u001b[0m \u001b[43m\u001b[49m\u001b[43m)\u001b[49m\n\u001b[1;32m    610\u001b[0m \u001b[38;5;66;03m# The user provided workflow code might have made changes to function specs that require cleanup\u001b[39;00m\n\u001b[1;32m    611\u001b[0m \u001b[38;5;28;01mfor\u001b[39;00m func \u001b[38;5;129;01min\u001b[39;00m project\u001b[38;5;241m.\u001b[39mspec\u001b[38;5;241m.\u001b[39m_function_objects\u001b[38;5;241m.\u001b[39mvalues():\n",
      "File \u001b[0;32m~/.conda/envs/smdemo/lib/python3.9/site-packages/mlrun/run.py:881\u001b[0m, in \u001b[0;36m_run_pipeline\u001b[0;34m(pipeline, arguments, project, experiment, run, namespace, artifact_path, ops, url, cleanup_ttl)\u001b[0m\n\u001b[1;32m    875\u001b[0m \u001b[38;5;28;01mif\u001b[39;00m mldb\u001b[38;5;241m.\u001b[39mkind \u001b[38;5;241m!=\u001b[39m \u001b[38;5;124m\"\u001b[39m\u001b[38;5;124mhttp\u001b[39m\u001b[38;5;124m\"\u001b[39m:\n\u001b[1;32m    876\u001b[0m     \u001b[38;5;28;01mraise\u001b[39;00m \u001b[38;5;167;01mValueError\u001b[39;00m(\n\u001b[1;32m    877\u001b[0m         \u001b[38;5;124m\"\u001b[39m\u001b[38;5;124mrun pipeline require access to remote api-service\u001b[39m\u001b[38;5;124m\"\u001b[39m\n\u001b[1;32m    878\u001b[0m         \u001b[38;5;124m\"\u001b[39m\u001b[38;5;124m, please set the dbpath url\u001b[39m\u001b[38;5;124m\"\u001b[39m\n\u001b[1;32m    879\u001b[0m     )\n\u001b[0;32m--> 881\u001b[0m pipeline_run_id \u001b[38;5;241m=\u001b[39m \u001b[43mmldb\u001b[49m\u001b[38;5;241;43m.\u001b[39;49m\u001b[43msubmit_pipeline\u001b[49m\u001b[43m(\u001b[49m\n\u001b[1;32m    882\u001b[0m \u001b[43m    \u001b[49m\u001b[43mproject\u001b[49m\u001b[43m,\u001b[49m\n\u001b[1;32m    883\u001b[0m \u001b[43m    \u001b[49m\u001b[43mpipeline\u001b[49m\u001b[43m,\u001b[49m\n\u001b[1;32m    884\u001b[0m \u001b[43m    \u001b[49m\u001b[43marguments\u001b[49m\u001b[43m,\u001b[49m\n\u001b[1;32m    885\u001b[0m \u001b[43m    \u001b[49m\u001b[43mexperiment\u001b[49m\u001b[38;5;241;43m=\u001b[39;49m\u001b[43mexperiment\u001b[49m\u001b[43m,\u001b[49m\n\u001b[1;32m    886\u001b[0m \u001b[43m    \u001b[49m\u001b[43mrun\u001b[49m\u001b[38;5;241;43m=\u001b[39;49m\u001b[43mrun\u001b[49m\u001b[43m,\u001b[49m\n\u001b[1;32m    887\u001b[0m \u001b[43m    \u001b[49m\u001b[43mnamespace\u001b[49m\u001b[38;5;241;43m=\u001b[39;49m\u001b[43mnamespace\u001b[49m\u001b[43m,\u001b[49m\n\u001b[1;32m    888\u001b[0m \u001b[43m    \u001b[49m\u001b[43mops\u001b[49m\u001b[38;5;241;43m=\u001b[39;49m\u001b[43mops\u001b[49m\u001b[43m,\u001b[49m\n\u001b[1;32m    889\u001b[0m \u001b[43m    \u001b[49m\u001b[43martifact_path\u001b[49m\u001b[38;5;241;43m=\u001b[39;49m\u001b[43martifact_path\u001b[49m\u001b[43m,\u001b[49m\n\u001b[1;32m    890\u001b[0m \u001b[43m    \u001b[49m\u001b[43mcleanup_ttl\u001b[49m\u001b[38;5;241;43m=\u001b[39;49m\u001b[43mcleanup_ttl\u001b[49m\u001b[43m,\u001b[49m\n\u001b[1;32m    891\u001b[0m \u001b[43m\u001b[49m\u001b[43m)\u001b[49m\n\u001b[1;32m    892\u001b[0m logger\u001b[38;5;241m.\u001b[39minfo(\u001b[38;5;124mf\u001b[39m\u001b[38;5;124m\"\u001b[39m\u001b[38;5;124mPipeline run id=\u001b[39m\u001b[38;5;132;01m{\u001b[39;00mpipeline_run_id\u001b[38;5;132;01m}\u001b[39;00m\u001b[38;5;124m, check UI for progress\u001b[39m\u001b[38;5;124m\"\u001b[39m)\n\u001b[1;32m    893\u001b[0m \u001b[38;5;28;01mreturn\u001b[39;00m pipeline_run_id\n",
      "File \u001b[0;32m~/.conda/envs/smdemo/lib/python3.9/site-packages/mlrun/db/httpdb.py:1640\u001b[0m, in \u001b[0;36mHTTPRunDB.submit_pipeline\u001b[0;34m(self, project, pipeline, arguments, experiment, run, namespace, artifact_path, ops, cleanup_ttl)\u001b[0m\n\u001b[1;32m   1634\u001b[0m     pipe_file \u001b[38;5;241m=\u001b[39m tempfile\u001b[38;5;241m.\u001b[39mNamedTemporaryFile(suffix\u001b[38;5;241m=\u001b[39m\u001b[38;5;124m\"\u001b[39m\u001b[38;5;124m.yaml\u001b[39m\u001b[38;5;124m\"\u001b[39m, delete\u001b[38;5;241m=\u001b[39m\u001b[38;5;28;01mFalse\u001b[39;00m)\u001b[38;5;241m.\u001b[39mname\n\u001b[1;32m   1635\u001b[0m     conf \u001b[38;5;241m=\u001b[39m new_pipe_metadata(\n\u001b[1;32m   1636\u001b[0m         artifact_path\u001b[38;5;241m=\u001b[39martifact_path,\n\u001b[1;32m   1637\u001b[0m         cleanup_ttl\u001b[38;5;241m=\u001b[39mcleanup_ttl,\n\u001b[1;32m   1638\u001b[0m         op_transformers\u001b[38;5;241m=\u001b[39mops,\n\u001b[1;32m   1639\u001b[0m     )\n\u001b[0;32m-> 1640\u001b[0m     \u001b[43mkfp\u001b[49m\u001b[38;5;241;43m.\u001b[39;49m\u001b[43mcompiler\u001b[49m\u001b[38;5;241;43m.\u001b[39;49m\u001b[43mCompiler\u001b[49m\u001b[43m(\u001b[49m\u001b[43m)\u001b[49m\u001b[38;5;241;43m.\u001b[39;49m\u001b[43mcompile\u001b[49m\u001b[43m(\u001b[49m\n\u001b[1;32m   1641\u001b[0m \u001b[43m        \u001b[49m\u001b[43mpipeline\u001b[49m\u001b[43m,\u001b[49m\u001b[43m \u001b[49m\u001b[43mpipe_file\u001b[49m\u001b[43m,\u001b[49m\u001b[43m \u001b[49m\u001b[43mtype_check\u001b[49m\u001b[38;5;241;43m=\u001b[39;49m\u001b[38;5;28;43;01mFalse\u001b[39;49;00m\u001b[43m,\u001b[49m\u001b[43m \u001b[49m\u001b[43mpipeline_conf\u001b[49m\u001b[38;5;241;43m=\u001b[39;49m\u001b[43mconf\u001b[49m\n\u001b[1;32m   1642\u001b[0m \u001b[43m    \u001b[49m\u001b[43m)\u001b[49m\n\u001b[1;32m   1644\u001b[0m \u001b[38;5;28;01mif\u001b[39;00m pipe_file\u001b[38;5;241m.\u001b[39mendswith(\u001b[38;5;124m\"\u001b[39m\u001b[38;5;124m.yaml\u001b[39m\u001b[38;5;124m\"\u001b[39m):\n\u001b[1;32m   1645\u001b[0m     headers \u001b[38;5;241m=\u001b[39m {\u001b[38;5;124m\"\u001b[39m\u001b[38;5;124mcontent-type\u001b[39m\u001b[38;5;124m\"\u001b[39m: \u001b[38;5;124m\"\u001b[39m\u001b[38;5;124mapplication/yaml\u001b[39m\u001b[38;5;124m\"\u001b[39m}\n",
      "File \u001b[0;32m~/.conda/envs/smdemo/lib/python3.9/site-packages/kfp/compiler/compiler.py:1175\u001b[0m, in \u001b[0;36mCompiler.compile\u001b[0;34m(self, pipeline_func, package_path, type_check, pipeline_conf)\u001b[0m\n\u001b[1;32m   1173\u001b[0m \u001b[38;5;28;01mtry\u001b[39;00m:\n\u001b[1;32m   1174\u001b[0m     kfp\u001b[38;5;241m.\u001b[39mTYPE_CHECK \u001b[38;5;241m=\u001b[39m type_check\n\u001b[0;32m-> 1175\u001b[0m     \u001b[38;5;28;43mself\u001b[39;49m\u001b[38;5;241;43m.\u001b[39;49m\u001b[43m_create_and_write_workflow\u001b[49m\u001b[43m(\u001b[49m\n\u001b[1;32m   1176\u001b[0m \u001b[43m        \u001b[49m\u001b[43mpipeline_func\u001b[49m\u001b[38;5;241;43m=\u001b[39;49m\u001b[43mpipeline_func\u001b[49m\u001b[43m,\u001b[49m\n\u001b[1;32m   1177\u001b[0m \u001b[43m        \u001b[49m\u001b[43mpipeline_conf\u001b[49m\u001b[38;5;241;43m=\u001b[39;49m\u001b[43mpipeline_conf\u001b[49m\u001b[43m,\u001b[49m\n\u001b[1;32m   1178\u001b[0m \u001b[43m        \u001b[49m\u001b[43mpackage_path\u001b[49m\u001b[38;5;241;43m=\u001b[39;49m\u001b[43mpackage_path\u001b[49m\u001b[43m)\u001b[49m\n\u001b[1;32m   1179\u001b[0m \u001b[38;5;28;01mfinally\u001b[39;00m:\n\u001b[1;32m   1180\u001b[0m     kfp\u001b[38;5;241m.\u001b[39mTYPE_CHECK \u001b[38;5;241m=\u001b[39m type_check_old_value\n",
      "File \u001b[0;32m~/.conda/envs/smdemo/lib/python3.9/site-packages/kfp/compiler/compiler.py:1227\u001b[0m, in \u001b[0;36mCompiler._create_and_write_workflow\u001b[0;34m(self, pipeline_func, pipeline_name, pipeline_description, params_list, pipeline_conf, package_path)\u001b[0m\n\u001b[1;32m   1218\u001b[0m \u001b[38;5;28;01mdef\u001b[39;00m \u001b[38;5;21m_create_and_write_workflow\u001b[39m(\u001b[38;5;28mself\u001b[39m,\n\u001b[1;32m   1219\u001b[0m                                pipeline_func: Callable,\n\u001b[1;32m   1220\u001b[0m                                pipeline_name: Text \u001b[38;5;241m=\u001b[39m \u001b[38;5;28;01mNone\u001b[39;00m,\n\u001b[0;32m   (...)\u001b[0m\n\u001b[1;32m   1223\u001b[0m                                pipeline_conf: dsl\u001b[38;5;241m.\u001b[39mPipelineConf \u001b[38;5;241m=\u001b[39m \u001b[38;5;28;01mNone\u001b[39;00m,\n\u001b[1;32m   1224\u001b[0m                                package_path: Text \u001b[38;5;241m=\u001b[39m \u001b[38;5;28;01mNone\u001b[39;00m) \u001b[38;5;241m-\u001b[39m\u001b[38;5;241m>\u001b[39m \u001b[38;5;28;01mNone\u001b[39;00m:\n\u001b[1;32m   1225\u001b[0m \u001b[38;5;250m    \u001b[39m\u001b[38;5;124;03m\"\"\"Compile the given pipeline function and dump it to specified file\u001b[39;00m\n\u001b[1;32m   1226\u001b[0m \u001b[38;5;124;03m    format.\"\"\"\u001b[39;00m\n\u001b[0;32m-> 1227\u001b[0m     workflow \u001b[38;5;241m=\u001b[39m \u001b[38;5;28;43mself\u001b[39;49m\u001b[38;5;241;43m.\u001b[39;49m\u001b[43m_create_workflow\u001b[49m\u001b[43m(\u001b[49m\u001b[43mpipeline_func\u001b[49m\u001b[43m,\u001b[49m\u001b[43m \u001b[49m\u001b[43mpipeline_name\u001b[49m\u001b[43m,\u001b[49m\n\u001b[1;32m   1228\u001b[0m \u001b[43m                                     \u001b[49m\u001b[43mpipeline_description\u001b[49m\u001b[43m,\u001b[49m\u001b[43m \u001b[49m\u001b[43mparams_list\u001b[49m\u001b[43m,\u001b[49m\n\u001b[1;32m   1229\u001b[0m \u001b[43m                                     \u001b[49m\u001b[43mpipeline_conf\u001b[49m\u001b[43m)\u001b[49m\n\u001b[1;32m   1230\u001b[0m     \u001b[38;5;28mself\u001b[39m\u001b[38;5;241m.\u001b[39m_write_workflow(workflow, package_path)\n\u001b[1;32m   1231\u001b[0m     _validate_workflow(workflow)\n",
      "File \u001b[0;32m~/.conda/envs/smdemo/lib/python3.9/site-packages/mlrun/projects/pipelines.py:321\u001b[0m, in \u001b[0;36m_create_enriched_mlrun_workflow\u001b[0;34m(self, pipeline_func, pipeline_name, pipeline_description, params_list, pipeline_conf)\u001b[0m\n\u001b[1;32m    312\u001b[0m \u001b[38;5;28;01mdef\u001b[39;00m \u001b[38;5;21m_create_enriched_mlrun_workflow\u001b[39m(\n\u001b[1;32m    313\u001b[0m     \u001b[38;5;28mself\u001b[39m,\n\u001b[1;32m    314\u001b[0m     pipeline_func: typing\u001b[38;5;241m.\u001b[39mCallable,\n\u001b[0;32m   (...)\u001b[0m\n\u001b[1;32m    318\u001b[0m     pipeline_conf: typing\u001b[38;5;241m.\u001b[39mOptional[dsl\u001b[38;5;241m.\u001b[39mPipelineConf] \u001b[38;5;241m=\u001b[39m \u001b[38;5;28;01mNone\u001b[39;00m,\n\u001b[1;32m    319\u001b[0m ):\n\u001b[1;32m    320\u001b[0m \u001b[38;5;250m    \u001b[39m\u001b[38;5;124;03m\"\"\"Call internal implementation of create_workflow and enrich with mlrun functions attributes\"\"\"\u001b[39;00m\n\u001b[0;32m--> 321\u001b[0m     workflow \u001b[38;5;241m=\u001b[39m \u001b[38;5;28;43mself\u001b[39;49m\u001b[38;5;241;43m.\u001b[39;49m\u001b[43m_original_create_workflow\u001b[49m\u001b[43m(\u001b[49m\n\u001b[1;32m    322\u001b[0m \u001b[43m        \u001b[49m\u001b[43mpipeline_func\u001b[49m\u001b[43m,\u001b[49m\u001b[43m \u001b[49m\u001b[43mpipeline_name\u001b[49m\u001b[43m,\u001b[49m\u001b[43m \u001b[49m\u001b[43mpipeline_description\u001b[49m\u001b[43m,\u001b[49m\u001b[43m \u001b[49m\u001b[43mparams_list\u001b[49m\u001b[43m,\u001b[49m\u001b[43m \u001b[49m\u001b[43mpipeline_conf\u001b[49m\n\u001b[1;32m    323\u001b[0m \u001b[43m    \u001b[49m\u001b[43m)\u001b[49m\n\u001b[1;32m    324\u001b[0m     \u001b[38;5;66;03m# We don't want to interrupt the original flow and don't know all the scenarios the function could be called.\u001b[39;00m\n\u001b[1;32m    325\u001b[0m     \u001b[38;5;66;03m# that's why we have try/except on all the code of the enrichment and also specific try/except for errors that\u001b[39;00m\n\u001b[1;32m    326\u001b[0m     \u001b[38;5;66;03m# we know can be raised.\u001b[39;00m\n\u001b[1;32m    327\u001b[0m     \u001b[38;5;28;01mtry\u001b[39;00m:\n",
      "File \u001b[0;32m~/.conda/envs/smdemo/lib/python3.9/site-packages/kfp/compiler/compiler.py:1005\u001b[0m, in \u001b[0;36mCompiler._create_workflow\u001b[0;34m(self, pipeline_func, pipeline_name, pipeline_description, params_list, pipeline_conf)\u001b[0m\n\u001b[1;32m   1002\u001b[0m         args_list\u001b[38;5;241m.\u001b[39mappend(param)\n\u001b[1;32m   1004\u001b[0m \u001b[38;5;28;01mwith\u001b[39;00m dsl\u001b[38;5;241m.\u001b[39mPipeline(pipeline_name) \u001b[38;5;28;01mas\u001b[39;00m dsl_pipeline:\n\u001b[0;32m-> 1005\u001b[0m     \u001b[43mpipeline_func\u001b[49m\u001b[43m(\u001b[49m\u001b[38;5;241;43m*\u001b[39;49m\u001b[43margs_list\u001b[49m\u001b[43m,\u001b[49m\u001b[43m \u001b[49m\u001b[38;5;241;43m*\u001b[39;49m\u001b[38;5;241;43m*\u001b[39;49m\u001b[43mkwargs_dict\u001b[49m\u001b[43m)\u001b[49m\n\u001b[1;32m   1007\u001b[0m pipeline_conf \u001b[38;5;241m=\u001b[39m pipeline_conf \u001b[38;5;129;01mor\u001b[39;00m dsl_pipeline\u001b[38;5;241m.\u001b[39mconf  \u001b[38;5;66;03m# Configuration passed to the compiler is overriding. Unfortunately, it's not trivial to detect whether the dsl_pipeline.conf was ever modified.\u001b[39;00m\n\u001b[1;32m   1009\u001b[0m \u001b[38;5;28mself\u001b[39m\u001b[38;5;241m.\u001b[39m_validate_exit_handler(dsl_pipeline)\n",
      "File \u001b[0;32m~/demo-sagemaker/src/workflow.py:43\u001b[0m, in \u001b[0;36mkfpipeline\u001b[0;34m(evaluate_path)\u001b[0m\n\u001b[1;32m     37\u001b[0m evaluate_function \u001b[38;5;241m=\u001b[39m project\u001b[38;5;241m.\u001b[39mget_function(\u001b[38;5;124m\"\u001b[39m\u001b[38;5;124mevaluate\u001b[39m\u001b[38;5;124m\"\u001b[39m)\n\u001b[1;32m     39\u001b[0m \u001b[38;5;66;03m#running\u001b[39;00m\n\u001b[1;32m     40\u001b[0m evaluate_run \u001b[38;5;241m=\u001b[39m project\u001b[38;5;241m.\u001b[39mrun_function(\n\u001b[1;32m     41\u001b[0m handler\u001b[38;5;241m=\u001b[39m\u001b[38;5;124m\"\u001b[39m\u001b[38;5;124mevaluate\u001b[39m\u001b[38;5;124m\"\u001b[39m,\n\u001b[1;32m     42\u001b[0m params\u001b[38;5;241m=\u001b[39m{\n\u001b[0;32m---> 43\u001b[0m     \u001b[38;5;124m\"\u001b[39m\u001b[38;5;124mmodel_path\u001b[39m\u001b[38;5;124m\"\u001b[39m: \u001b[43mtrain\u001b[49m\u001b[38;5;241;43m.\u001b[39;49m\u001b[43moutputs\u001b[49m\u001b[43m[\u001b[49m\u001b[38;5;124;43m'\u001b[39;49m\u001b[38;5;124;43mmodel_path\u001b[39;49m\u001b[38;5;124;43m'\u001b[39;49m\u001b[43m]\u001b[49m,\n\u001b[1;32m     44\u001b[0m     \u001b[38;5;124m\"\u001b[39m\u001b[38;5;124mmodel_name\u001b[39m\u001b[38;5;124m\"\u001b[39m: \u001b[38;5;124m\"\u001b[39m\u001b[38;5;124mxgboost-model\u001b[39m\u001b[38;5;124m\"\u001b[39m,\n\u001b[1;32m     45\u001b[0m     \u001b[38;5;124m\"\u001b[39m\u001b[38;5;124mtest_set\u001b[39m\u001b[38;5;124m\"\u001b[39m: evaluate_path,\n\u001b[1;32m     46\u001b[0m     \u001b[38;5;124m\"\u001b[39m\u001b[38;5;124mlabel_column\u001b[39m\u001b[38;5;124m\"\u001b[39m: \u001b[38;5;124m\"\u001b[39m\u001b[38;5;124mtransaction_category\u001b[39m\u001b[38;5;124m\"\u001b[39m,        \n\u001b[1;32m     47\u001b[0m },\n\u001b[1;32m     48\u001b[0m returns\u001b[38;5;241m=\u001b[39m[\u001b[38;5;124m\"\u001b[39m\u001b[38;5;124mclassification_report: dataset\u001b[39m\u001b[38;5;124m\"\u001b[39m])\n\u001b[1;32m     52\u001b[0m \u001b[38;5;66;03m# deploying serving function\u001b[39;00m\n\u001b[1;32m     53\u001b[0m serving_function \u001b[38;5;241m=\u001b[39m project\u001b[38;5;241m.\u001b[39mget_function(\u001b[38;5;124m\"\u001b[39m\u001b[38;5;124mserving\u001b[39m\u001b[38;5;124m\"\u001b[39m)    \n",
      "\u001b[0;31mKeyError\u001b[0m: 'model_path'"
     ]
    }
   ],
   "source": [
    "project.run(workflow_name,         \n",
    "            watch=True,arguments= {\"evaluate_path\": s3_data})"
   ]
  },
  {
   "cell_type": "code",
   "execution_count": null,
   "id": "68e592ca-43ef-496a-8140-8d2b0cb944d4",
   "metadata": {},
   "outputs": [],
   "source": []
  }
 ],
 "metadata": {
  "kernelspec": {
   "display_name": "smdemo",
   "language": "python",
   "name": "smdemo"
  },
  "language_info": {
   "codemirror_mode": {
    "name": "ipython",
    "version": 3
   },
   "file_extension": ".py",
   "mimetype": "text/x-python",
   "name": "python",
   "nbconvert_exporter": "python",
   "pygments_lexer": "ipython3",
   "version": "3.9.18"
  }
 },
 "nbformat": 4,
 "nbformat_minor": 5
}
